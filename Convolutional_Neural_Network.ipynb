{
 "cells": [
  {
   "cell_type": "code",
   "execution_count": 1,
   "metadata": {},
   "outputs": [
    {
     "name": "stderr",
     "output_type": "stream",
     "text": [
      "Using TensorFlow backend.\n"
     ]
    }
   ],
   "source": [
    "import keras\n",
    "from keras.models import Sequential\n",
    "from keras.layers.core import Dense, Dropout, Flatten, Activation\n",
    "from keras.layers.convolutional import Convolution2D, MaxPooling2D, Conv2D\n",
    "from sklearn.model_selection import train_test_split\n",
    "import numpy as np\n",
    "import pandas as pd\n",
    "\n",
    "car_data = pd.read_csv('../Documents/data_set/Main_User_Interface/1.14MHz Data/Features/car.csv')\n",
    "human_data = pd.read_csv('../Documents/data_set/Main_User_Interface/1.14MHz Data/Features/human.csv')\n",
    "pillar_data = pd.read_csv('../Documents/data_set/Main_User_Interface/1.14MHz Data/Features/pillar.csv')\n",
    "wall_data = pd.read_csv('../Documents/data_set/Main_User_Interface/1.14MHz Data/Features/wall.csv')"
   ]
  },
  {
   "cell_type": "code",
   "execution_count": 2,
   "metadata": {},
   "outputs": [
    {
     "name": "stdout",
     "output_type": "stream",
     "text": [
      "Car: 7640\n",
      "Human: 9791\n",
      "Pillar: 5791\n",
      "Wall: 5506\n",
      "Total data: 28728\n"
     ]
    }
   ],
   "source": [
    "print('Car:', len(car_data))\n",
    "print('Human:', len(human_data))\n",
    "print('Pillar:', len(pillar_data))\n",
    "print('Wall:', len(wall_data))\n",
    "total = len(car_data) + len(human_data) + len(pillar_data) + len(wall_data)\n",
    "print('Total data:', total)"
   ]
  },
  {
   "cell_type": "code",
   "execution_count": 3,
   "metadata": {},
   "outputs": [],
   "source": [
    "human = human_data.loc[human_data['type'] == 'HUMAN'].iloc[:,4:]\n",
    "car = car_data.loc[car_data['type'] == 'CAR'].iloc[:,4:]\n",
    "pillar = pillar_data.loc[pillar_data['type'] == 'PILLAR'].iloc[:,4:]\n",
    "wall = wall_data.loc[wall_data['type'] == 'WALL'].iloc[:,4:]"
   ]
  },
  {
   "cell_type": "code",
   "execution_count": 4,
   "metadata": {},
   "outputs": [],
   "source": [
    "human_label = ['HUMAN']*human.shape[0]\n",
    "car_label = ['CAR']*car.shape[0]\n",
    "wall_label = ['WALL']*wall.shape[0]\n",
    "pillar_label = ['PILLAR']*pillar.shape[0]\n",
    "non_human_label = ['NON_HUMAN']*(car.shape[0] +wall.shape[0] + pillar.shape[0])"
   ]
  },
  {
   "cell_type": "code",
   "execution_count": 5,
   "metadata": {},
   "outputs": [],
   "source": [
    "# X_human_train, X_human_test, y_human_train, y_human_test = train_test_split(human.values, ['HUMAN']*human.shape[0], test_size=0.2, random_state=42)\n",
    "# X_car_train, X_car_test, y_car_train, y_car_test = train_test_split(car.values, ['CAR']*car.shape[0], test_size=0.2, random_state=42)\n",
    "# X_wall_train, X_wall_test, y_wall_train, y_wall_test = train_test_split(wall.values, ['WALL']*wall.shape[0], test_size=0.2, random_state=42)\n",
    "# X_pillar_train, X_pillar_test, y_pillar_train, y_pillar_test = train_test_split(pillar.values, ['PILLAR']*pillar.shape[0], test_size=0.2, random_state=42)\n",
    "\n",
    "label = human_label + non_human_label\n",
    "data = human.values.tolist() + car.values.tolist() + wall.values.tolist() + pillar.values.tolist()\n",
    "\n",
    "\n",
    "from sklearn.preprocessing import LabelBinarizer, LabelEncoder\n",
    "label_encoder = LabelEncoder()\n",
    "label_encoded = label_encoder.fit_transform(label)\n",
    "\n",
    "train_X, test_X, train_y, test_y = train_test_split(data, label_encoded, test_size=0.33, random_state=42)"
   ]
  },
  {
   "cell_type": "code",
   "execution_count": 6,
   "metadata": {},
   "outputs": [
    {
     "name": "stdout",
     "output_type": "stream",
     "text": [
      "X train data: (19247, 36)\n",
      "X test data: (9481, 36)\n",
      "y train data: (19247,)\n",
      "y test data: (9481,)\n"
     ]
    }
   ],
   "source": [
    "print('X train data:', np.array(train_X).shape)\n",
    "print('X test data:', np.array(test_X).shape)\n",
    "print('y train data:', np.array(train_y).shape)\n",
    "print('y test data:', np.array(test_y).shape)"
   ]
  },
  {
   "cell_type": "code",
   "execution_count": 7,
   "metadata": {},
   "outputs": [],
   "source": [
    "from sklearn import preprocessing\n",
    "normalized_X_train = preprocessing.normalize(train_X)\n",
    "normalized_X_test = preprocessing.normalize(test_X)"
   ]
  },
  {
   "cell_type": "code",
   "execution_count": 8,
   "metadata": {},
   "outputs": [
    {
     "data": {
      "text/plain": [
       "((19247, 5, 5, 1), (9481, 5, 5, 1))"
      ]
     },
     "execution_count": 8,
     "metadata": {},
     "output_type": "execute_result"
    }
   ],
   "source": [
    "train_X = np.array(normalized_X_train)[:,6:31].reshape(-1,5,5,1)\n",
    "test_X =  np.array(normalized_X_test)[:,6:31].reshape(-1,5,5,1)\n",
    "\n",
    "train_X.shape, test_X.shape"
   ]
  },
  {
   "cell_type": "code",
   "execution_count": 9,
   "metadata": {},
   "outputs": [
    {
     "name": "stdout",
     "output_type": "stream",
     "text": [
      "Total number of outputs :  2\n",
      "Output classes :  [0 1]\n"
     ]
    }
   ],
   "source": [
    "classes = np.unique(train_y)\n",
    "nClasses = len(classes)\n",
    "print('Total number of outputs : ', nClasses)\n",
    "print('Output classes : ', classes)"
   ]
  },
  {
   "cell_type": "code",
   "execution_count": 10,
   "metadata": {},
   "outputs": [
    {
     "data": {
      "text/plain": [
       "((19247, 5, 5, 1), (9481, 5, 5, 1), (19247,), (9481,))"
      ]
     },
     "execution_count": 10,
     "metadata": {},
     "output_type": "execute_result"
    }
   ],
   "source": [
    "train_X = train_X.astype('float32')\n",
    "test_X = test_X.astype('float32')\n",
    "\n",
    "train_X.shape, test_X.shape, train_y.shape, test_y.shape"
   ]
  },
  {
   "cell_type": "code",
   "execution_count": 11,
   "metadata": {},
   "outputs": [
    {
     "name": "stdout",
     "output_type": "stream",
     "text": [
      "Original label: 1\n",
      "After conversion to one-hot: [0. 1.]\n",
      "(19247, 2)\n",
      "(9481, 2)\n"
     ]
    }
   ],
   "source": [
    "from keras.utils import to_categorical\n",
    "\n",
    "# Change the labels from categorical to one-hot encoding\n",
    "train_Y_one_hot = keras.utils.to_categorical(train_y)\n",
    "test_Y_one_hot = keras.utils.to_categorical(test_y)\n",
    "\n",
    "# Display the change for category label using one-hot encoding\n",
    "print('Original label:', train_y[0])\n",
    "print('After conversion to one-hot:', train_Y_one_hot[0])\n",
    "\n",
    "print(train_Y_one_hot.shape)\n",
    "print(test_Y_one_hot.shape)"
   ]
  },
  {
   "cell_type": "code",
   "execution_count": 12,
   "metadata": {},
   "outputs": [
    {
     "data": {
      "text/plain": [
       "((13472, 5, 5, 1), (5775, 5, 5, 1), (13472, 2), (5775, 2))"
      ]
     },
     "execution_count": 12,
     "metadata": {},
     "output_type": "execute_result"
    }
   ],
   "source": [
    "train_X,valid_X,train_label,valid_label = train_test_split(train_X, train_Y_one_hot, test_size=0.3, random_state=13)\n",
    "train_X.shape,valid_X.shape,train_label.shape,valid_label.shape"
   ]
  },
  {
   "cell_type": "code",
   "execution_count": 13,
   "metadata": {},
   "outputs": [],
   "source": [
    "from keras.models import Input,Model\n",
    "from keras.layers import Dense, Dropout, Flatten\n",
    "from keras.layers import Conv2D, MaxPooling2D\n",
    "\n",
    "epochs = 50\n",
    "num_classes = 2\n",
    "\n",
    "model = Sequential()\n",
    "\n",
    "model.add(Conv2D(128, kernel_size=(2, 2),input_shape=(5,5,1)))\n",
    "model.add(Activation('relu'))\n",
    "model.add(MaxPooling2D((2, 2),padding='same'))\n",
    "\n",
    "model.add(Flatten())\n",
    "model.add(Dense(num_classes, activation='softmax'))\n",
    "\n",
    "model.compile(optimizer='adam', loss='categorical_crossentropy', metrics=['accuracy'])\n"
   ]
  },
  {
   "cell_type": "code",
   "execution_count": 27,
   "metadata": {},
   "outputs": [],
   "source": [
    "# import keras\n",
    "# from keras.models import Sequential,Input,Model\n",
    "# from keras.layers import Dense, Dropout, Flatten\n",
    "# from keras.layers import Conv2D, MaxPooling2D\n",
    "\n",
    "# epochs = 50\n",
    "# num_classes = 2\n",
    "\n",
    "# model = Sequential()\n",
    "\n",
    "# model.add(Conv2D(128, kernel_size=(2, 2),activation='linear',input_shape=(5,5,1)))\n",
    "# model.add(Activation('relu'))\n",
    "# model.add(MaxPooling2D((2, 2),padding='same'))\n",
    "\n",
    "# #model.add(Conv2D(64, (2, 2), activation='linear',padding='same'))\n",
    "# #model.add(Activation('relu'))\n",
    "# #model.add(MaxPooling2D(pool_size=(2, 2),padding='same'))\n",
    "\n",
    "# model.add(Flatten())\n",
    "# #model.add(Activation('relu'))\n",
    "# model.add(Dense(num_classes, activation='softmax'))\n",
    "\n",
    "# model.compile(optimizer='adam', loss='categorical_crossentropy', metrics=['accuracy'])\n",
    "# #model.compile(loss=keras.losses.categorical_crossentropy, optimizer=keras.optimizers.Adam(),metrics=['accuracy'])"
   ]
  },
  {
   "cell_type": "code",
   "execution_count": 15,
   "metadata": {},
   "outputs": [
    {
     "name": "stdout",
     "output_type": "stream",
     "text": [
      "Model: \"sequential_1\"\n",
      "_________________________________________________________________\n",
      "Layer (type)                 Output Shape              Param #   \n",
      "=================================================================\n",
      "conv2d_1 (Conv2D)            (None, 4, 4, 128)         640       \n",
      "_________________________________________________________________\n",
      "activation_1 (Activation)    (None, 4, 4, 128)         0         \n",
      "_________________________________________________________________\n",
      "max_pooling2d_1 (MaxPooling2 (None, 2, 2, 128)         0         \n",
      "_________________________________________________________________\n",
      "flatten_1 (Flatten)          (None, 512)               0         \n",
      "_________________________________________________________________\n",
      "dense_1 (Dense)              (None, 2)                 1026      \n",
      "=================================================================\n",
      "Total params: 1,666\n",
      "Trainable params: 1,666\n",
      "Non-trainable params: 0\n",
      "_________________________________________________________________\n"
     ]
    }
   ],
   "source": [
    "model.summary()"
   ]
  },
  {
   "cell_type": "code",
   "execution_count": 16,
   "metadata": {
    "scrolled": false
   },
   "outputs": [
    {
     "name": "stdout",
     "output_type": "stream",
     "text": [
      "Train on 13472 samples, validate on 5775 samples\n",
      "Epoch 1/50\n",
      "13472/13472 [==============================] - 4s 314us/step - loss: 0.6208 - accuracy: 0.6619 - val_loss: 0.5872 - val_accuracy: 0.6686\n",
      "Epoch 2/50\n",
      "13472/13472 [==============================] - 3s 193us/step - loss: 0.5473 - accuracy: 0.7147 - val_loss: 0.5159 - val_accuracy: 0.7294\n",
      "Epoch 3/50\n",
      "13472/13472 [==============================] - 2s 155us/step - loss: 0.4841 - accuracy: 0.7776 - val_loss: 0.4594 - val_accuracy: 0.8081\n",
      "Epoch 4/50\n",
      "13472/13472 [==============================] - 2s 171us/step - loss: 0.4344 - accuracy: 0.8142 - val_loss: 0.4160 - val_accuracy: 0.8319\n",
      "Epoch 5/50\n",
      "13472/13472 [==============================] - 2s 185us/step - loss: 0.3981 - accuracy: 0.8373 - val_loss: 0.3904 - val_accuracy: 0.8332\n",
      "Epoch 6/50\n",
      "13472/13472 [==============================] - 3s 213us/step - loss: 0.3672 - accuracy: 0.8564 - val_loss: 0.3588 - val_accuracy: 0.8526\n",
      "Epoch 7/50\n",
      "13472/13472 [==============================] - 2s 171us/step - loss: 0.3424 - accuracy: 0.8708 - val_loss: 0.3249 - val_accuracy: 0.8819\n",
      "Epoch 8/50\n",
      "13472/13472 [==============================] - 3s 226us/step - loss: 0.3210 - accuracy: 0.8805 - val_loss: 0.3040 - val_accuracy: 0.8951\n",
      "Epoch 9/50\n",
      "13472/13472 [==============================] - 3s 212us/step - loss: 0.2988 - accuracy: 0.8916 - val_loss: 0.2855 - val_accuracy: 0.9035\n",
      "Epoch 10/50\n",
      "13472/13472 [==============================] - 3s 212us/step - loss: 0.2820 - accuracy: 0.8993 - val_loss: 0.2702 - val_accuracy: 0.9065\n",
      "Epoch 11/50\n",
      "13472/13472 [==============================] - 3s 197us/step - loss: 0.2668 - accuracy: 0.9075 - val_loss: 0.2640 - val_accuracy: 0.9186\n",
      "Epoch 12/50\n",
      "13472/13472 [==============================] - 2s 175us/step - loss: 0.2563 - accuracy: 0.9096 - val_loss: 0.2439 - val_accuracy: 0.9169\n",
      "Epoch 13/50\n",
      "13472/13472 [==============================] - 2s 163us/step - loss: 0.2408 - accuracy: 0.9177 - val_loss: 0.2318 - val_accuracy: 0.9254\n",
      "Epoch 14/50\n",
      "13472/13472 [==============================] - 2s 152us/step - loss: 0.2329 - accuracy: 0.9195 - val_loss: 0.2239 - val_accuracy: 0.9243\n",
      "Epoch 15/50\n",
      "13472/13472 [==============================] - 2s 143us/step - loss: 0.2238 - accuracy: 0.9236 - val_loss: 0.2141 - val_accuracy: 0.9276\n",
      "Epoch 16/50\n",
      "13472/13472 [==============================] - 2s 168us/step - loss: 0.2145 - accuracy: 0.9272 - val_loss: 0.2067 - val_accuracy: 0.9309\n",
      "Epoch 17/50\n",
      "13472/13472 [==============================] - 2s 166us/step - loss: 0.2066 - accuracy: 0.9313 - val_loss: 0.2238 - val_accuracy: 0.9283\n",
      "Epoch 18/50\n",
      "13472/13472 [==============================] - 2s 152us/step - loss: 0.1989 - accuracy: 0.9335 - val_loss: 0.1964 - val_accuracy: 0.9389\n",
      "Epoch 19/50\n",
      "13472/13472 [==============================] - 2s 143us/step - loss: 0.1944 - accuracy: 0.9342 - val_loss: 0.1948 - val_accuracy: 0.9306\n",
      "Epoch 20/50\n",
      "13472/13472 [==============================] - 2s 150us/step - loss: 0.1911 - accuracy: 0.9363 - val_loss: 0.2051 - val_accuracy: 0.9307\n",
      "Epoch 21/50\n",
      "13472/13472 [==============================] - 2s 165us/step - loss: 0.1847 - accuracy: 0.9382 - val_loss: 0.1843 - val_accuracy: 0.9423\n",
      "Epoch 22/50\n",
      "13472/13472 [==============================] - 2s 155us/step - loss: 0.1824 - accuracy: 0.9388 - val_loss: 0.1777 - val_accuracy: 0.9397\n",
      "Epoch 23/50\n",
      "13472/13472 [==============================] - 2s 162us/step - loss: 0.1775 - accuracy: 0.9408 - val_loss: 0.1742 - val_accuracy: 0.9410\n",
      "Epoch 24/50\n",
      "13472/13472 [==============================] - 2s 165us/step - loss: 0.1731 - accuracy: 0.9409 - val_loss: 0.1713 - val_accuracy: 0.9468\n",
      "Epoch 25/50\n",
      "13472/13472 [==============================] - 2s 158us/step - loss: 0.1716 - accuracy: 0.9417 - val_loss: 0.1677 - val_accuracy: 0.9477\n",
      "Epoch 26/50\n",
      "13472/13472 [==============================] - 2s 179us/step - loss: 0.1676 - accuracy: 0.9443 - val_loss: 0.1651 - val_accuracy: 0.9456\n",
      "Epoch 27/50\n",
      "13472/13472 [==============================] - 2s 140us/step - loss: 0.1653 - accuracy: 0.9439 - val_loss: 0.1696 - val_accuracy: 0.9435\n",
      "Epoch 28/50\n",
      "13472/13472 [==============================] - 2s 156us/step - loss: 0.1654 - accuracy: 0.9434 - val_loss: 0.1631 - val_accuracy: 0.9446\n",
      "Epoch 29/50\n",
      "13472/13472 [==============================] - 2s 149us/step - loss: 0.1605 - accuracy: 0.9454 - val_loss: 0.1714 - val_accuracy: 0.9382\n",
      "Epoch 30/50\n",
      "13472/13472 [==============================] - 2s 182us/step - loss: 0.1592 - accuracy: 0.9451 - val_loss: 0.1590 - val_accuracy: 0.9498\n",
      "Epoch 31/50\n",
      "13472/13472 [==============================] - 2s 144us/step - loss: 0.1578 - accuracy: 0.9474 - val_loss: 0.1569 - val_accuracy: 0.9486\n",
      "Epoch 32/50\n",
      "13472/13472 [==============================] - 2s 148us/step - loss: 0.1555 - accuracy: 0.9474 - val_loss: 0.1542 - val_accuracy: 0.9491\n",
      "Epoch 33/50\n",
      "13472/13472 [==============================] - 2s 148us/step - loss: 0.1540 - accuracy: 0.9467 - val_loss: 0.1549 - val_accuracy: 0.9500\n",
      "Epoch 34/50\n",
      "13472/13472 [==============================] - 3s 195us/step - loss: 0.1537 - accuracy: 0.9465 - val_loss: 0.1518 - val_accuracy: 0.9510\n",
      "Epoch 35/50\n",
      "13472/13472 [==============================] - 2s 155us/step - loss: 0.1540 - accuracy: 0.9461 - val_loss: 0.1628 - val_accuracy: 0.9425\n",
      "Epoch 36/50\n",
      "13472/13472 [==============================] - 2s 151us/step - loss: 0.1494 - accuracy: 0.9474 - val_loss: 0.1516 - val_accuracy: 0.9498\n",
      "Epoch 37/50\n",
      "13472/13472 [==============================] - 2s 152us/step - loss: 0.1494 - accuracy: 0.9489 - val_loss: 0.1481 - val_accuracy: 0.9531\n",
      "Epoch 38/50\n",
      "13472/13472 [==============================] - 2s 140us/step - loss: 0.1484 - accuracy: 0.9483 - val_loss: 0.1484 - val_accuracy: 0.9517\n",
      "Epoch 39/50\n",
      "13472/13472 [==============================] - 2s 143us/step - loss: 0.1477 - accuracy: 0.9506 - val_loss: 0.1526 - val_accuracy: 0.9481\n",
      "Epoch 40/50\n",
      "13472/13472 [==============================] - 2s 176us/step - loss: 0.1461 - accuracy: 0.9489 - val_loss: 0.1625 - val_accuracy: 0.9434\n",
      "Epoch 41/50\n",
      "13472/13472 [==============================] - 2s 155us/step - loss: 0.1456 - accuracy: 0.9515 - val_loss: 0.1448 - val_accuracy: 0.9531\n",
      "Epoch 42/50\n",
      "13472/13472 [==============================] - 3s 188us/step - loss: 0.1459 - accuracy: 0.9503 - val_loss: 0.1631 - val_accuracy: 0.9422\n",
      "Epoch 43/50\n",
      "13472/13472 [==============================] - 2s 174us/step - loss: 0.1433 - accuracy: 0.9520 - val_loss: 0.1445 - val_accuracy: 0.9524\n",
      "Epoch 44/50\n",
      "13472/13472 [==============================] - 2s 158us/step - loss: 0.1429 - accuracy: 0.9522 - val_loss: 0.1469 - val_accuracy: 0.9529\n",
      "Epoch 45/50\n",
      "13472/13472 [==============================] - 2s 152us/step - loss: 0.1407 - accuracy: 0.9520 - val_loss: 0.1460 - val_accuracy: 0.9532\n",
      "Epoch 46/50\n",
      "13472/13472 [==============================] - 2s 185us/step - loss: 0.1399 - accuracy: 0.9525 - val_loss: 0.1437 - val_accuracy: 0.9532\n",
      "Epoch 47/50\n",
      "13472/13472 [==============================] - 2s 145us/step - loss: 0.1408 - accuracy: 0.9520 - val_loss: 0.1399 - val_accuracy: 0.9541\n",
      "Epoch 48/50\n",
      "13472/13472 [==============================] - 2s 146us/step - loss: 0.1413 - accuracy: 0.9511 - val_loss: 0.1470 - val_accuracy: 0.9506\n",
      "Epoch 49/50\n",
      "13472/13472 [==============================] - 3s 187us/step - loss: 0.1384 - accuracy: 0.9538 - val_loss: 0.1417 - val_accuracy: 0.9527\n",
      "Epoch 50/50\n",
      "13472/13472 [==============================] - 2s 173us/step - loss: 0.1377 - accuracy: 0.9538 - val_loss: 0.1405 - val_accuracy: 0.9534\n"
     ]
    }
   ],
   "source": [
    "train_dropout = model.fit(train_X, train_label,epochs=epochs,validation_data=(valid_X, valid_label))"
   ]
  },
  {
   "cell_type": "code",
   "execution_count": 17,
   "metadata": {},
   "outputs": [],
   "source": [
    "# model.save(\"CNN_model.h5py\")"
   ]
  },
  {
   "cell_type": "code",
   "execution_count": 18,
   "metadata": {},
   "outputs": [
    {
     "name": "stdout",
     "output_type": "stream",
     "text": [
      "9481/9481 [==============================] - 1s 66us/step\n"
     ]
    },
    {
     "data": {
      "text/plain": [
       "[0.1434818994799642, 0.9490560293197632]"
      ]
     },
     "execution_count": 18,
     "metadata": {},
     "output_type": "execute_result"
    }
   ],
   "source": [
    "test_eval = model.evaluate(test_X, test_Y_one_hot)\n",
    "test_eval"
   ]
  },
  {
   "cell_type": "code",
   "execution_count": 19,
   "metadata": {},
   "outputs": [],
   "source": [
    "# # serialize model to JSON\n",
    "# model_json = model.to_json()\n",
    "# with open(\"model.json\", \"w\") as json_file:\n",
    "#     json_file.write(model_json)\n",
    "# # serialize weights to HDF5\n",
    "# model.save_weights(\"model.h5\")\n",
    "# print(\"Saved model to disk\")"
   ]
  },
  {
   "cell_type": "code",
   "execution_count": 20,
   "metadata": {},
   "outputs": [],
   "source": [
    "# from keras.models import model_from_json\n",
    "# # load json and create model\n",
    "# json_file = open('model.json', 'r')\n",
    "# loaded_model_json = json_file.read()\n",
    "# json_file.close()\n",
    "# loaded_model = model_from_json(loaded_model_json)\n",
    "# # load weights into new model\n",
    "# loaded_model.load_weights(\"model.h5\")\n",
    "# print(\"Loaded model from disk\")\n",
    "\n",
    "# # evaluate loaded model on test data\n",
    "# loaded_model.compile(optimizer='adam', loss='categorical_crossentropy', metrics=['accuracy'])\n",
    "# score = loaded_model.evaluate(test_X, test_Y_one_hot, verbose=0)\n",
    "# print(\"%s: %.2f%%\" % (loaded_model.metrics_names[1], score[1]*100))"
   ]
  },
  {
   "cell_type": "code",
   "execution_count": 21,
   "metadata": {},
   "outputs": [
    {
     "data": {
      "text/plain": [
       "((9481,), (9481,))"
      ]
     },
     "execution_count": 21,
     "metadata": {},
     "output_type": "execute_result"
    }
   ],
   "source": [
    "predicted_classes = model.predict(test_X)\n",
    "predicted_classes = np.argmax(np.round(predicted_classes),axis=1)\n",
    "predicted_classes.shape, test_y.shape"
   ]
  },
  {
   "cell_type": "code",
   "execution_count": 22,
   "metadata": {},
   "outputs": [],
   "source": [
    "# correct = np.where(predicted_classes==test_Y)[0]\n",
    "# print (\"Found correct labels\", len(correct))\n",
    "# # for i, correct in enumerate(correct[:9]):\n",
    "# #     plt.subplot(3,3,i+1)\n",
    "# #     plt.imshow(test_X[correct].reshape(9,9), cmap='gray', interpolation='none')\n",
    "# #     plt.title(\"Predicted {}, Class {}\".format(predicted_classes[correct], test_Y[correct]))\n",
    "# #     plt.tight_layout()\n",
    "\n",
    "# incorrect = np.where(predicted_classes!=test_Y)[0]\n",
    "# print (\"Found incorrect labels\", len(incorrect))\n",
    "# # for i, incorrect in enumerate(incorrect[:9]):\n",
    "# #     plt.subplot(3,3,i+1)\n",
    "# #     plt.imshow(test_X[incorrect].reshape(9,9), cmap='gray', interpolation='none')\n",
    "# #     plt.title(\"Predicted {}, Class {}\".format(predicted_classes[incorrect], test_Y[incorrect]))\n",
    "# #     plt.tight_layout()"
   ]
  },
  {
   "cell_type": "code",
   "execution_count": 23,
   "metadata": {},
   "outputs": [],
   "source": [
    "# from sklearn.metrics import classification_report\n",
    "# num_classes = 2\n",
    "# target_names = [\"Class {}\".format(i) for i in range(num_classes)]\n",
    "# print(classification_report(test_y, predicted_classes, target_names=target_names))"
   ]
  },
  {
   "cell_type": "code",
   "execution_count": 25,
   "metadata": {},
   "outputs": [
    {
     "name": "stdout",
     "output_type": "stream",
     "text": [
      "[[2799  426]\n",
      " [  57 6199]]\n",
      "0.9490560067503427\n"
     ]
    },
    {
     "data": {
      "image/png": "[encoded data removed]",
      "text/plain": [
       "<Figure size 720x720 with 2 Axes>"
      ]
     },
     "metadata": {
      "needs_background": "light"
     },
     "output_type": "display_data"
    }
   ],
   "source": [
    "from sklearn.metrics import confusion_matrix\n",
    "from sklearn.metrics import accuracy_score, confusion_matrix\n",
    "\n",
    "def create_confusion_matrix(y_test, result):\n",
    "    cm = confusion_matrix(y_test, result)\n",
    "    import seaborn as sns\n",
    "    import matplotlib.pyplot as plt     \n",
    "    sum = np.sum(cm)\n",
    "    score = accuracy_score(y_test, result)\n",
    "    print(score)\n",
    "    \n",
    "    from sklearn.metrics import precision_score, recall_score, f1_score\n",
    "    \n",
    "    precision_CLASS_A = round(precision_score(y_test, result, average='binary',pos_label=0),2)\n",
    "    precision_CLASS_B = round(precision_score(y_test, result, average='binary',pos_label=1),2)\n",
    "    recall_CLASS_A = round(recall_score(y_test, result, average='binary',pos_label=0),2)\n",
    "    recall_CLASS_B = round(recall_score(y_test, result, average='binary',pos_label=1),2)\n",
    "    f1_CLASS_A = round(f1_score(y_test, result, average='binary',pos_label=0),2)\n",
    "    f1_CLASS_B = round(f1_score(y_test, result, average='binary',pos_label=1),2)\n",
    "    f1_average = round((f1_CLASS_A + f1_CLASS_B)/2, 2);\n",
    "#     print('Precision: Class A',precision_CLASS_A)\n",
    "#     print('Precision: Class B',precision_CLASS_B)\n",
    "#     print('Recall: Class A',recall_CLASS_A)\n",
    "#     print('Recall: Class B',recall_CLASS_B)\n",
    "#     print('F1-Score: Class A',f1_CLASS_A)\n",
    "#     print('F1-Score: Class B',f1_CLASS_B)\n",
    "#     print('Average F1-score:', f1_average)\n",
    "        \n",
    "    cm_new = np.append(cm[0], recall_CLASS_A)\n",
    "    cm_new2 = np.append(cm[1], recall_CLASS_B)\n",
    "    cm_new3 = np.array([precision_CLASS_A, precision_CLASS_B, score])\n",
    "    cm = np.array([cm_new,cm_new2,cm_new3])\n",
    "    \n",
    "    fig, ax = plt.subplots(figsize=(10,10))\n",
    "    sns.heatmap(cm, annot=True, ax = ax,linewidths=.5,fmt='g',cmap=\"Greens\"); #annot=True to annotate cells\n",
    "\n",
    "    # labels, title and ticks\n",
    "    ax.set_xlabel('Predicted labels');\n",
    "    ax.set_ylabel('True labels'); \n",
    "    ax.set_title('CNN Confusion Matrix'); \n",
    "    counter = 0\n",
    "    for i in range(0,2):\n",
    "        for j in range(0,3):\n",
    "            percentage = cm[i,j]/sum\n",
    "            t = ax.texts[counter]\n",
    "            if j == 2:\n",
    "                t.set_text(str(cm[i,j]))\n",
    "            else:\n",
    "                t.set_text(str(cm[i,j]) + '\\n' + str(round(percentage*100,2)) + \" %\")\n",
    "            counter = counter + 1\n",
    "    labels = ['Human', 'Non Human']\n",
    "    ax.xaxis.set_ticklabels(labels)\n",
    "    ax.yaxis.set_ticklabels(labels);\n",
    "\n",
    "cm = confusion_matrix(test_y, predicted_classes)\n",
    "print(cm)\n",
    "create_confusion_matrix(test_y, predicted_classes)"
   ]
  },
  {
   "cell_type": "code",
   "execution_count": null,
   "metadata": {},
   "outputs": [],
   "source": []
  },
  {
   "cell_type": "code",
   "execution_count": null,
   "metadata": {},
   "outputs": [],
   "source": []
  }
 ],
 "metadata": {
  "kernelspec": {
   "display_name": "Python 3",
   "language": "python",
   "name": "python3"
  },
  "language_info": {
   "codemirror_mode": {
    "name": "ipython",
    "version": 3
   },
   "file_extension": ".py",
   "mimetype": "text/x-python",
   "name": "python",
   "nbconvert_exporter": "python",
   "pygments_lexer": "ipython3",
   "version": "3.7.3"
  }
 },
 "nbformat": 4,
 "nbformat_minor": 2
}
